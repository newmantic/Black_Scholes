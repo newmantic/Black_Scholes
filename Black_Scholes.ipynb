{
  "nbformat": 4,
  "nbformat_minor": 0,
  "metadata": {
    "colab": {
      "provenance": [],
      "authorship_tag": "ABX9TyM3TtHZ793G4zushwqY9BKA",
      "include_colab_link": true
    },
    "kernelspec": {
      "name": "python3",
      "display_name": "Python 3"
    },
    "language_info": {
      "name": "python"
    }
  },
  "cells": [
    {
      "cell_type": "markdown",
      "metadata": {
        "id": "view-in-github",
        "colab_type": "text"
      },
      "source": [
        "<a href=\"https://colab.research.google.com/github/newmantic/Black_Scholes/blob/main/Black_Scholes.ipynb\" target=\"_parent\"><img src=\"https://colab.research.google.com/assets/colab-badge.svg\" alt=\"Open In Colab\"/></a>"
      ]
    },
    {
      "cell_type": "code",
      "execution_count": 1,
      "metadata": {
        "id": "O3CvS9Lj5HL4"
      },
      "outputs": [],
      "source": [
        "import numpy as np\n",
        "from scipy.stats import norm\n",
        "\n",
        "def black_scholes(S, K, T, r, sigma, option_type='call'):\n",
        "    \"\"\"\n",
        "    Black-Scholes model for European option pricing.\n",
        "\n",
        "    Parameters:\n",
        "    - S: Current stock price\n",
        "    - K: Strike price\n",
        "    - T: Time to maturity (in years)\n",
        "    - r: Risk-free interest rate (annual)\n",
        "    - sigma: Volatility of the underlying asset (annual)\n",
        "    - option_type: 'call' for call option, 'put' for put option\n",
        "\n",
        "    Returns:\n",
        "    - option_price: The price of the European option\n",
        "    \"\"\"\n",
        "    d1 = (np.log(S / K) + (r + 0.5 * sigma ** 2) * T) / (sigma * np.sqrt(T))\n",
        "    d2 = d1 - sigma * np.sqrt(T)\n",
        "\n",
        "    if option_type == 'call':\n",
        "        option_price = S * norm.cdf(d1) - K * np.exp(-r * T) * norm.cdf(d2)\n",
        "    elif option_type == 'put':\n",
        "        option_price = K * np.exp(-r * T) * norm.cdf(-d2) - S * norm.cdf(-d1)\n",
        "    else:\n",
        "        raise ValueError(\"Invalid option type. Choose 'call' or 'put'.\")\n",
        "\n",
        "    return option_price"
      ]
    },
    {
      "cell_type": "code",
      "source": [
        "# Parameters\n",
        "S = 100         # Current stock price\n",
        "K = 100         # Strike price\n",
        "T = 1           # Time to maturity (1 year)\n",
        "r = 0.05        # Risk-free interest rate (5% per annum)\n",
        "sigma = 0.2     # Volatility (20% per annum)\n",
        "\n",
        "# Price the European call option\n",
        "call_price = black_scholes(S, K, T, r, sigma, option_type='call')\n",
        "print(f\"European Call Option Price: {call_price:.2f}\")\n",
        "\n",
        "# Price the European put option\n",
        "put_price = black_scholes(S, K, T, r, sigma, option_type='put')\n",
        "print(f\"European Put Option Price: {put_price:.2f}\")"
      ],
      "metadata": {
        "colab": {
          "base_uri": "https://localhost:8080/"
        },
        "id": "ZTDBqsbB5iw_",
        "outputId": "9ac4b8e3-73a2-416a-c37b-030bb54c3cc3"
      },
      "execution_count": 2,
      "outputs": [
        {
          "output_type": "stream",
          "name": "stdout",
          "text": [
            "European Call Option Price: 10.45\n",
            "European Put Option Price: 5.57\n"
          ]
        }
      ]
    }
  ]
}